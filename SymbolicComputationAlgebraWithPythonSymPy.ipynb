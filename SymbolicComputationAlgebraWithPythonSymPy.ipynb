{
 "cells": [
  {
   "cell_type": "code",
   "execution_count": 1,
   "metadata": {},
   "outputs": [
    {
     "name": "stdout",
     "output_type": "stream",
     "text": [
      "Requirement already satisfied: sympy in /home/african/anaconda3/lib/python3.7/site-packages (1.4)\n",
      "Requirement already satisfied: tornado in /home/african/anaconda3/lib/python3.7/site-packages (6.0.3)\n",
      "Requirement already satisfied: mpmath>=0.19 in /home/african/anaconda3/lib/python3.7/site-packages (from sympy) (1.1.0)\n"
     ]
    }
   ],
   "source": [
    "!pip install sympy tornado"
   ]
  },
  {
   "cell_type": "code",
   "execution_count": 2,
   "metadata": {},
   "outputs": [],
   "source": [
    "import sympy as sp\n",
    "sp.init_printing()"
   ]
  },
  {
   "cell_type": "code",
   "execution_count": 3,
   "metadata": {},
   "outputs": [],
   "source": [
    "x=sp.Symbol('x')\n",
    "y,z=sp.symbols('y,z')\n",
    "f=sp.Function('f')\n",
    "g=x**2 + y**2 + z**2"
   ]
  },
  {
   "cell_type": "code",
   "execution_count": 4,
   "metadata": {},
   "outputs": [
    {
     "name": "stdout",
     "output_type": "stream",
     "text": [
      "x**2 + y**2 + z**2\n"
     ]
    }
   ],
   "source": [
    "print(g)"
   ]
  },
  {
   "cell_type": "code",
   "execution_count": 5,
   "metadata": {},
   "outputs": [
    {
     "data": {
      "image/png": "[encoded data removed]",
      "text/latex": [
       "$\\displaystyle x^{2} + y^{2} + z^{2}$"
      ],
      "text/plain": [
       " 2    2    2\n",
       "x  + y  + z "
      ]
     },
     "execution_count": 5,
     "metadata": {},
     "output_type": "execute_result"
    }
   ],
   "source": [
    "g"
   ]
  },
  {
   "cell_type": "code",
   "execution_count": 6,
   "metadata": {},
   "outputs": [
    {
     "name": "stdout",
     "output_type": "stream",
     "text": [
      " 2    2    2\n",
      "x  + y  + z \n"
     ]
    }
   ],
   "source": [
    "sp.pprint(g)"
   ]
  },
  {
   "cell_type": "markdown",
   "metadata": {},
   "source": [
    "# Expression"
   ]
  },
  {
   "cell_type": "code",
   "execution_count": 7,
   "metadata": {},
   "outputs": [
    {
     "data": {
      "image/png": "[encoded data removed]",
      "text/latex": [
       "$\\displaystyle x^{2} + 2 x - 5$"
      ],
      "text/plain": [
       " 2          \n",
       "x  + 2⋅x - 5"
      ]
     },
     "execution_count": 7,
     "metadata": {},
     "output_type": "execute_result"
    }
   ],
   "source": [
    "h=x**2+2*x-5\n",
    "h"
   ]
  },
  {
   "cell_type": "code",
   "execution_count": 10,
   "metadata": {},
   "outputs": [
    {
     "name": "stdout",
     "output_type": "stream",
     "text": [
      "3\n"
     ]
    }
   ],
   "source": [
    "print(h.subs(x,2))\n"
   ]
  },
  {
   "cell_type": "code",
   "execution_count": 11,
   "metadata": {},
   "outputs": [
    {
     "name": "stdout",
     "output_type": "stream",
     "text": [
      "2*y**2.5 + y**5.0 - 5\n",
      "z**4 + 2*z**2 - 5\n"
     ]
    }
   ],
   "source": [
    "print(h.subs(x,y**2.5))\n",
    "print(h.subs(x,z**2))"
   ]
  },
  {
   "cell_type": "code",
   "execution_count": 13,
   "metadata": {},
   "outputs": [
    {
     "data": {
      "image/png": "[encoded data removed]",
      "text/latex": [
       "$\\displaystyle \\frac{x + 2}{x}$"
      ],
      "text/plain": [
       "x + 2\n",
       "─────\n",
       "  x  "
      ]
     },
     "execution_count": 13,
     "metadata": {},
     "output_type": "execute_result"
    }
   ],
   "source": [
    "f=(x**2-x-6)/(x**2-3*x)\n",
    "sp.simplify(f)"
   ]
  },
  {
   "cell_type": "code",
   "execution_count": 14,
   "metadata": {},
   "outputs": [
    {
     "data": {
      "image/png": "[encoded data removed]",
      "text/latex": [
       "$\\displaystyle x^{5} + 7 x^{4} + 19 x^{3} + 25 x^{2} + 16 x + 4$"
      ],
      "text/plain": [
       " 5      4       3       2           \n",
       "x  + 7⋅x  + 19⋅x  + 25⋅x  + 16⋅x + 4"
      ]
     },
     "execution_count": 14,
     "metadata": {},
     "output_type": "execute_result"
    }
   ],
   "source": [
    "f=(x+1)**3*(x+2)**2\n",
    "sp.expand(f)"
   ]
  },
  {
   "cell_type": "code",
   "execution_count": 16,
   "metadata": {},
   "outputs": [
    {
     "data": {
      "image/png": "[encoded data removed]",
      "text/latex": [
       "$\\displaystyle 3 \\left(x - 8\\right) \\left(x - 3\\right) \\left(x - 2\\right) \\left(x + 1\\right)$"
      ],
      "text/plain": [
       "3⋅(x - 8)⋅(x - 3)⋅(x - 2)⋅(x + 1)"
      ]
     },
     "execution_count": 16,
     "metadata": {},
     "output_type": "execute_result"
    }
   ],
   "source": [
    "f=3*x**4-36*x**3+99*x**2-6*x-144\n",
    "sp.factor(f)"
   ]
  },
  {
   "cell_type": "code",
   "execution_count": 17,
   "metadata": {},
   "outputs": [
    {
     "data": {
      "image/png": "[encoded data removed]",
      "text/latex": [
       "$\\displaystyle e^{2 x} \\sin^{2}{\\left(x \\right)}$"
      ],
      "text/plain": [
       " 2⋅x    2   \n",
       "ℯ   ⋅sin (x)"
      ]
     },
     "execution_count": 17,
     "metadata": {},
     "output_type": "execute_result"
    }
   ],
   "source": [
    "y=(sp.sin(x))**2 *sp.exp(2*x)\n",
    "y"
   ]
  },
  {
   "cell_type": "code",
   "execution_count": 19,
   "metadata": {},
   "outputs": [
    {
     "data": {
      "image/png": "[encoded data removed]",
      "text/latex": [
       "$\\displaystyle 2 e^{2 x} \\sin^{2}{\\left(x \\right)} + 2 e^{2 x} \\sin{\\left(x \\right)} \\cos{\\left(x \\right)}$"
      ],
      "text/plain": [
       "   2⋅x    2         2⋅x              \n",
       "2⋅ℯ   ⋅sin (x) + 2⋅ℯ   ⋅sin(x)⋅cos(x)"
      ]
     },
     "execution_count": 19,
     "metadata": {},
     "output_type": "execute_result"
    }
   ],
   "source": [
    "z=sp.diff(y,x)\n",
    "z"
   ]
  },
  {
   "cell_type": "code",
   "execution_count": 20,
   "metadata": {},
   "outputs": [
    {
     "data": {
      "image/png": "[encoded data removed]",
      "text/latex": [
       "$\\displaystyle 74.2461834352833$"
      ],
      "text/plain": [
       "74.2461834352833"
      ]
     },
     "execution_count": 20,
     "metadata": {},
     "output_type": "execute_result"
    }
   ],
   "source": [
    "z.subs(x,3.2)"
   ]
  },
  {
   "cell_type": "code",
   "execution_count": 21,
   "metadata": {},
   "outputs": [
    {
     "data": {
      "image/png": "[encoded data removed]",
      "text/latex": [
       "$\\displaystyle x^{2} \\sin{\\left(x^{2} \\right)}$"
      ],
      "text/plain": [
       " 2    ⎛ 2⎞\n",
       "x ⋅sin⎝x ⎠"
      ]
     },
     "execution_count": 21,
     "metadata": {},
     "output_type": "execute_result"
    }
   ],
   "source": [
    "f=x**2*sp.sin(x**2)\n",
    "f\n"
   ]
  },
  {
   "cell_type": "code",
   "execution_count": 22,
   "metadata": {},
   "outputs": [
    {
     "data": {
      "image/png": "[encoded data removed]",
      "text/latex": [
       "$\\displaystyle - \\frac{25 \\cos{\\left(25 \\right)} \\Gamma\\left(\\frac{5}{4}\\right)}{8 \\Gamma\\left(\\frac{9}{4}\\right)} + \\frac{5 \\sqrt{2} \\sqrt{\\pi} C\\left(\\frac{5 \\sqrt{2}}{\\sqrt{\\pi}}\\right) \\Gamma\\left(\\frac{5}{4}\\right)}{16 \\Gamma\\left(\\frac{9}{4}\\right)}$"
      ],
      "text/plain": [
       "                                      ⎛5⋅√2⎞       \n",
       "                      5⋅√2⋅√π⋅fresnelc⎜────⎟⋅Γ(5/4)\n",
       "  25⋅cos(25)⋅Γ(5/4)                   ⎝ √π ⎠       \n",
       "- ───────────────── + ─────────────────────────────\n",
       "       8⋅Γ(9/4)                 16⋅Γ(9/4)          "
      ]
     },
     "execution_count": 22,
     "metadata": {},
     "output_type": "execute_result"
    }
   ],
   "source": [
    "g=sp.integrate(f,(x,0,5))\n",
    "g"
   ]
  },
  {
   "cell_type": "code",
   "execution_count": 23,
   "metadata": {},
   "outputs": [
    {
     "data": {
      "image/png": "[encoded data removed]",
      "text/latex": [
       "$\\displaystyle -2.17227364646045$"
      ],
      "text/plain": [
       "-2.17227364646045"
      ]
     },
     "execution_count": 23,
     "metadata": {},
     "output_type": "execute_result"
    }
   ],
   "source": [
    "g.evalf()"
   ]
  },
  {
   "cell_type": "code",
   "execution_count": 24,
   "metadata": {},
   "outputs": [
    {
     "data": {
      "image/png": "[encoded data removed]",
      "text/latex": [
       "$\\displaystyle x^{3} + 15 x^{2} = 3 x - 10$"
      ],
      "text/plain": [
       " 3       2           \n",
       "x  + 15⋅x  = 3⋅x - 10"
      ]
     },
     "execution_count": 24,
     "metadata": {},
     "output_type": "execute_result"
    }
   ],
   "source": [
    "y1=sp.Eq(x**3+15*x**2,3*x-10)\n",
    "y1\n"
   ]
  },
  {
   "cell_type": "code",
   "execution_count": 25,
   "metadata": {},
   "outputs": [
    {
     "data": {
      "image/png": "[encoded data removed]",
      "text/latex": [
       "$\\displaystyle \\left[ -5 - \\frac{78}{\\left(- \\frac{1}{2} - \\frac{\\sqrt{3} i}{2}\\right) \\sqrt[3]{\\frac{27 \\sqrt{5321}}{2} + \\frac{7425}{2}}} - \\frac{\\left(- \\frac{1}{2} - \\frac{\\sqrt{3} i}{2}\\right) \\sqrt[3]{\\frac{27 \\sqrt{5321}}{2} + \\frac{7425}{2}}}{3}, \\  -5 - \\frac{\\left(- \\frac{1}{2} + \\frac{\\sqrt{3} i}{2}\\right) \\sqrt[3]{\\frac{27 \\sqrt{5321}}{2} + \\frac{7425}{2}}}{3} - \\frac{78}{\\left(- \\frac{1}{2} + \\frac{\\sqrt{3} i}{2}\\right) \\sqrt[3]{\\frac{27 \\sqrt{5321}}{2} + \\frac{7425}{2}}}, \\  - \\frac{\\sqrt[3]{\\frac{27 \\sqrt{5321}}{2} + \\frac{7425}{2}}}{3} - 5 - \\frac{78}{\\sqrt[3]{\\frac{27 \\sqrt{5321}}{2} + \\frac{7425}{2}}}\\right]$"
      ],
      "text/plain": [
       "⎡                                                           _________________ \n",
       "⎢                                          ⎛  1   √3⋅ⅈ⎞    ╱ 27⋅√5321   7425  \n",
       "⎢                                          ⎜- ─ - ────⎟⋅3 ╱  ──────── + ────  \n",
       "⎢                     78                   ⎝  2    2  ⎠ ╲╱      2        2    \n",
       "⎢-5 - ────────────────────────────────── - ──────────────────────────────────,\n",
       "⎢                      _________________                   3                  \n",
       "⎢     ⎛  1   √3⋅ⅈ⎞    ╱ 27⋅√5321   7425                                       \n",
       "⎢     ⎜- ─ - ────⎟⋅3 ╱  ──────── + ────                                       \n",
       "⎣     ⎝  2    2  ⎠ ╲╱      2        2                                         \n",
       "\n",
       "                       _________________                                      \n",
       "      ⎛  1   √3⋅ⅈ⎞    ╱ 27⋅√5321   7425                                       \n",
       "      ⎜- ─ + ────⎟⋅3 ╱  ──────── + ────                                       \n",
       "      ⎝  2    2  ⎠ ╲╱      2        2                      78                 \n",
       " -5 - ────────────────────────────────── - ──────────────────────────────────,\n",
       "                      3                                     _________________ \n",
       "                                           ⎛  1   √3⋅ⅈ⎞    ╱ 27⋅√5321   7425  \n",
       "                                           ⎜- ─ + ────⎟⋅3 ╱  ──────── + ────  \n",
       "                                           ⎝  2    2  ⎠ ╲╱      2        2    \n",
       "\n",
       "       _________________                            ⎤\n",
       "      ╱ 27⋅√5321   7425                             ⎥\n",
       "   3 ╱  ──────── + ────                             ⎥\n",
       "   ╲╱      2        2                    78         ⎥\n",
       " - ───────────────────── - 5 - ─────────────────────⎥\n",
       "             3                     _________________⎥\n",
       "                                  ╱ 27⋅√5321   7425 ⎥\n",
       "                               3 ╱  ──────── + ──── ⎥\n",
       "                               ╲╱      2        2   ⎦"
      ]
     },
     "execution_count": 25,
     "metadata": {},
     "output_type": "execute_result"
    }
   ],
   "source": [
    "z=sp.solve(y1,x)\n",
    "z"
   ]
  },
  {
   "cell_type": "code",
   "execution_count": 26,
   "metadata": {},
   "outputs": [
    {
     "data": {
      "image/png": "[encoded data removed]",
      "text/latex": [
       "$\\displaystyle 0.119953874110975 + 0.801113611837881 i$"
      ],
      "text/plain": [
       "0.119953874110975 + 0.801113611837881⋅ⅈ"
      ]
     },
     "execution_count": 26,
     "metadata": {},
     "output_type": "execute_result"
    }
   ],
   "source": [
    "z[0].evalf()"
   ]
  },
  {
   "cell_type": "code",
   "execution_count": 27,
   "metadata": {},
   "outputs": [
    {
     "data": {
      "image/png": "[encoded data removed]",
      "text/latex": [
       "$\\displaystyle 0.119953874110975 - 0.801113611837881 i$"
      ],
      "text/plain": [
       "0.119953874110975 - 0.801113611837881⋅ⅈ"
      ]
     },
     "execution_count": 27,
     "metadata": {},
     "output_type": "execute_result"
    }
   ],
   "source": [
    "z[1].evalf()"
   ]
  },
  {
   "cell_type": "code",
   "execution_count": 28,
   "metadata": {},
   "outputs": [
    {
     "data": {
      "image/png": "[encoded data removed]",
      "text/latex": [
       "$\\displaystyle -15.2399077482219$"
      ],
      "text/plain": [
       "-15.2399077482219"
      ]
     },
     "execution_count": 28,
     "metadata": {},
     "output_type": "execute_result"
    }
   ],
   "source": [
    "z[2].evalf()"
   ]
  },
  {
   "cell_type": "code",
   "execution_count": 29,
   "metadata": {},
   "outputs": [
    {
     "name": "stdout",
     "output_type": "stream",
     "text": [
      "0.119953874110975 + 0.801113611837881⋅ⅈ\n",
      "0.119953874110975 - 0.801113611837881⋅ⅈ\n",
      "-15.2399077482219\n"
     ]
    }
   ],
   "source": [
    "for w in z:\n",
    "    sp.pprint(w.evalf())"
   ]
  },
  {
   "cell_type": "code",
   "execution_count": 37,
   "metadata": {},
   "outputs": [
    {
     "data": {
      "image/png": "[encoded data removed]",
      "text/latex": [
       "$\\displaystyle x + y + z = 0$"
      ],
      "text/plain": [
       "x + y + z = 0"
      ]
     },
     "execution_count": 37,
     "metadata": {},
     "output_type": "execute_result"
    }
   ],
   "source": [
    "x,y,z=sp.symbols('x,y,z')\n",
    "eq1=sp.Eq(x+y+z,0)\n",
    "eq1"
   ]
  },
  {
   "cell_type": "code",
   "execution_count": 32,
   "metadata": {},
   "outputs": [
    {
     "data": {
      "image/png": "[encoded data removed]",
      "text/latex": [
       "$\\displaystyle 2 x - y - z = 10$"
      ],
      "text/plain": [
       "2⋅x - y - z = 10"
      ]
     },
     "execution_count": 32,
     "metadata": {},
     "output_type": "execute_result"
    }
   ],
   "source": [
    "eq2=sp.Eq(2*x-y-z,10)\n",
    "eq2\n"
   ]
  },
  {
   "cell_type": "code",
   "execution_count": 38,
   "metadata": {},
   "outputs": [
    {
     "data": {
      "image/png": "[encoded data removed]",
      "text/latex": [
       "$\\displaystyle y + 2 z = 5$"
      ],
      "text/plain": [
       "y + 2⋅z = 5"
      ]
     },
     "execution_count": 38,
     "metadata": {},
     "output_type": "execute_result"
    }
   ],
   "source": [
    "eq3=sp.Eq(y+2*z,5)\n",
    "eq3"
   ]
  },
  {
   "cell_type": "code",
   "execution_count": 39,
   "metadata": {},
   "outputs": [
    {
     "data": {
      "image/png": "[encoded data removed]",
      "text/latex": [
       "$\\displaystyle \\left\\{ x : \\frac{10}{3}, \\  y : - \\frac{35}{3}, \\  z : \\frac{25}{3}\\right\\}$"
      ],
      "text/plain": [
       "{x: 10/3, y: -35/3, z: 25/3}"
      ]
     },
     "execution_count": 39,
     "metadata": {},
     "output_type": "execute_result"
    }
   ],
   "source": [
    "sp.solve([eq1,eq2,eq3],[x,y,z])"
   ]
  },
  {
   "cell_type": "code",
   "execution_count": 41,
   "metadata": {},
   "outputs": [
    {
     "name": "stdout",
     "output_type": "stream",
     "text": [
      "[  3.33333333 -11.66666667   8.33333333]\n"
     ]
    }
   ],
   "source": [
    "from scipy.optimize import fsolve\n",
    "def f(w):\n",
    "    x=w[0]\n",
    "    y=w[1]\n",
    "    z=w[2]\n",
    "    f1=x+y+z\n",
    "    f2=2*x-y-z-10\n",
    "    f3=y+2*z-5\n",
    "    return [f1,f2,f3]\n",
    "\n",
    "result=fsolve(f,[0,0,0])\n",
    "sp.pprint(result)"
   ]
  },
  {
   "cell_type": "markdown",
   "metadata": {},
   "source": [
    "## Solving differential equations symbolically using the ```dsolve``` function:\n",
    "$$\\frac{df(x)}{dx} = x\\cos(x).$$"
   ]
  },
  {
   "cell_type": "code",
   "execution_count": 44,
   "metadata": {},
   "outputs": [
    {
     "data": {
      "image/png": "[encoded data removed]",
      "text/latex": [
       "$\\displaystyle \\operatorname{pf}{\\left(x \\right)} = C_{1} + x \\sin{\\left(x \\right)} + \\cos{\\left(x \\right)}$"
      ],
      "text/plain": [
       "pf(x) = C₁ + x⋅sin(x) + cos(x)"
      ]
     },
     "execution_count": 44,
     "metadata": {},
     "output_type": "execute_result"
    }
   ],
   "source": [
    "pf=sp.Function('pf')\n",
    "y=sp.dsolve(sp.Derivative(pf(x),x)-x*sp.cos(x),pf(x))\n",
    "y"
   ]
  },
  {
   "cell_type": "code",
   "execution_count": 45,
   "metadata": {},
   "outputs": [
    {
     "data": {
      "image/png": "[encoded data removed]",
      "text/latex": [
       "$\\displaystyle x \\sin{\\left(x \\right)} + \\cos{\\left(x \\right)}$"
      ],
      "text/plain": [
       "x⋅sin(x) + cos(x)"
      ]
     },
     "execution_count": 45,
     "metadata": {},
     "output_type": "execute_result"
    }
   ],
   "source": [
    "z=sp.integrate(x*sp.cos(x))\n",
    "z"
   ]
  },
  {
   "cell_type": "code",
   "execution_count": 47,
   "metadata": {},
   "outputs": [
    {
     "name": "stdout",
     "output_type": "stream",
     "text": [
      "⎡1   2  5⎤\n",
      "⎢        ⎥\n",
      "⎢3   4  6⎥\n",
      "⎢        ⎥\n",
      "⎣-1  0  3⎦\n",
      "⎡1 ⎤\n",
      "⎢  ⎥\n",
      "⎢0 ⎥\n",
      "⎢  ⎥\n",
      "⎣-2⎦\n"
     ]
    }
   ],
   "source": [
    "from sympy import Matrix\n",
    "A=sp.Matrix([[1,2,5],[3,4,6],[-1,0,3]])\n",
    "b=sp.Matrix([1,0,-2])\n",
    "sp.pprint(A)\n",
    "sp.pprint(b)"
   ]
  },
  {
   "cell_type": "code",
   "execution_count": 48,
   "metadata": {},
   "outputs": [
    {
     "name": "stdout",
     "output_type": "stream",
     "text": [
      "⎡ 14  ⎤\n",
      "⎢     ⎥\n",
      "⎢-33/2⎥\n",
      "⎢     ⎥\n",
      "⎣  4  ⎦\n",
      "⎡ 14  ⎤\n",
      "⎢     ⎥\n",
      "⎢-33/2⎥\n",
      "⎢     ⎥\n",
      "⎣  4  ⎦\n"
     ]
    }
   ],
   "source": [
    "sp.pprint(A.inv()*b)\n",
    "sp.pprint(A.LUsolve(b))"
   ]
  },
  {
   "cell_type": "code",
   "execution_count": 51,
   "metadata": {},
   "outputs": [
    {
     "name": "stdout",
     "output_type": "stream",
     "text": [
      "[3  4  6]\n"
     ]
    }
   ],
   "source": [
    "sp.pprint(A[1:2,:])"
   ]
  },
  {
   "cell_type": "code",
   "execution_count": 52,
   "metadata": {},
   "outputs": [
    {
     "name": "stdout",
     "output_type": "stream",
     "text": [
      "⎡2⎤\n",
      "⎢ ⎥\n",
      "⎢4⎥\n",
      "⎢ ⎥\n",
      "⎣0⎦\n"
     ]
    }
   ],
   "source": [
    "sp.pprint(A[:,1:2])"
   ]
  },
  {
   "cell_type": "code",
   "execution_count": 54,
   "metadata": {},
   "outputs": [
    {
     "name": "stdout",
     "output_type": "stream",
     "text": [
      "⎡0   0⎤\n",
      "⎢     ⎥\n",
      "⎢ 2   ⎥\n",
      "⎣x   3⎦\n"
     ]
    }
   ],
   "source": [
    "M=sp.zeros(2,2)\n",
    "M[1,1]=3\n",
    "M[1,0]=x**2\n",
    "sp.pprint(M)"
   ]
  },
  {
   "cell_type": "code",
   "execution_count": null,
   "metadata": {},
   "outputs": [],
   "source": [
    "M=sp.ones(2,2)\n",
    "M[1,1]=0\n",
    "sp.pprint(M.inv())"
   ]
  },
  {
   "cell_type": "code",
   "execution_count": null,
   "metadata": {},
   "outputs": [],
   "source": []
  }
 ],
 "metadata": {
  "kernelspec": {
   "display_name": "Python 3",
   "language": "python",
   "name": "python3"
  },
  "language_info": {
   "codemirror_mode": {
    "name": "ipython",
    "version": 3
   },
   "file_extension": ".py",
   "mimetype": "text/x-python",
   "name": "python",
   "nbconvert_exporter": "python",
   "pygments_lexer": "ipython3",
   "version": "3.7.4"
  }
 },
 "nbformat": 4,
 "nbformat_minor": 4
}
